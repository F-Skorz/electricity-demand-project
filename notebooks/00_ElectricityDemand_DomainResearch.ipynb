{
 "cells": [
  {
   "cell_type": "markdown",
   "id": "af6153e3",
   "metadata": {},
   "source": [
    "<h1> Electricity Demand: Domain Reasearch  </h1>"
   ]
  },
  {
   "cell_type": "markdown",
   "id": "328006c4",
   "metadata": {},
   "source": [
    "<h2> Quantities, Units and Orders of Magnitude </h2>"
   ]
  },
  {
   "cell_type": "markdown",
   "id": "54c1d468",
   "metadata": {},
   "source": [
    "<h3> Electricity: Electric Engergy</h3>"
   ]
  },
  {
   "cell_type": "markdown",
   "id": "cb6844d9",
   "metadata": {},
   "source": [
    "Usually, “electricity” means energy understood as the result of constant power over time—specifically: power in watts times time in hours. The unit is therefore  $\\mathrm{Wh}$.\n",
    "$$ 1\\;\\mathrm{TWh} = 10^{12}\\;\\mathrm{Wh} = 1000\\;\\mathrm{GWh} = 1\\;\\mathrm{million}\\;\\mathrm{MWh} = 1\\;\\mathrm{billion}\\;\\mathrm{kWh}$$\n",
    "For individual households, $\\mathrm{kWh}$ is the appropriate order of magnitude; for national consumption, \n",
    "$\\mathrm{TWh}$. Specifically for Germany, the [Umweltbundesamt](https://www.umweltbundesamt.de/daten/energie/stromverbrauch#entwicklung-des-stromverbrauchs) reports that, as of 2025, the year **2007** holds the all-time record for electricity consumption at $624\\,\\mathrm{TWh}$."
   ]
  },
  {
   "cell_type": "markdown",
   "id": "7c9e31c7",
   "metadata": {},
   "source": [
    "<h3> Examples for Different Magnitudes </h3>"
   ]
  },
  {
   "cell_type": "markdown",
   "id": "2b8b0352",
   "metadata": {},
   "source": [
    "Reminder: $\\mathrm{Ws} \\equiv \\mathrm{J}$, $\\mathrm{Wh} = 3600 \\,\\mathrm{J}=3,6 \\,\\mathrm{MJ}$ ."
   ]
  },
  {
   "cell_type": "markdown",
   "id": "7f798dec",
   "metadata": {},
   "source": [
    "The typical consumption of electric houshold devices:"
   ]
  },
  {
   "cell_type": "markdown",
   "id": "d7537342",
   "metadata": {},
   "source": [
    "| Activity                                    | Energy (kWh) | Energy (MJ) |\n",
    "|:--------------------------------------------|------------:|------------:|\n",
    "| Toast 2 slices                               |        0.04  |        0.14  |\n",
    "| Heat 1 L water from 20 °C to 100 °C          |        0.093 |        0.336 |\n",
    "| Microwave 15 min                             |        0.3   |        1.08  |\n",
    "| Dishwasher (eco load)                        |        0.5   |        ~1.8  |\n",
    "| 6 kg laundry @ 30 °C (eco program)           |        0.5   |        ~1.80 |\n",
    "| 6 kg laundry @ 90 °C                         |        1.05  |        ~3.78 |\n",
    "| Dryer (45 min)                               |        2.25  |        8.1   |\n"
   ]
  },
  {
   "cell_type": "markdown",
   "id": "ca6671cd",
   "metadata": {},
   "source": [
    "Electric vehicels on the street.."
   ]
  },
  {
   "cell_type": "markdown",
   "id": "090bd61d",
   "metadata": {},
   "source": [
    "| Activity                                                    | Energy (kWh) | Energy (MWh) | Energy (MJ) | \n",
    "|:------------------------------------------------------------|-------------:|-------------:|------------:|\n",
    "| Driving a modern EV ~100 km                                 |       ~20    |      ~0.020  | ~72      | \n",
    "| Electric bus (12 m) driving ~100 km                         |      ~115    |      ~0.115  | ~414      |\n",
    "| Electric bus (18 m) driving ~100 km                         |      ~160    |      ~0.160  | ~576 MJ |                     \n",
    "| Proterra ZX5+ (440 kWh option, full battery: 373–386 km)    |       440    |      ~0.440  | ~1,584   |                   |\n",
    "| Proterra ZX5MAX (660 kWh option, full battery: ~529 km)     |       660    |      ~0.660  | ~2,376   |                      |\n",
    "| Proterra ZX5 bus (738 kWh full battery: ~483–550 km)         |       738    |      ~0.738  | ~2, 657   |                  |\n",
    "| Electric bus fleet (10 buses × 200 km)          |     ~2,000   |      ~2.0    | ~7,200   | \n"
   ]
  },
  {
   "cell_type": "markdown",
   "id": "46933019",
   "metadata": {},
   "source": [
    ".. and on railroads."
   ]
  },
  {
   "cell_type": "markdown",
   "id": "3219e524",
   "metadata": {},
   "source": [
    "| Activity                                                      | Energy (kWh) | Energy (MWh) | Energy (MJ) | Max Passengers | Energy per Passenger (kWh) |\n",
    "|:--------------------------------------------------------------|-------------:|-------------:|------------:|---------------:|---------------------------:|\n",
    "| Electric solo bus (12 m, ~1.1 kWh/km) – 100 km                | ~110         | ~0.110       | ~396        | 100¹           | ~1.10                      |\n",
    "| Electric articulated bus (18 m, ~1.75 kWh/km) – 100 km        | ~175         | ~0.175       | ~630        | 150           | ~1.17                      |\n",
    "| TGV – 100 km (@22 kWh/km × 100 km)                             | ~2,200       | ~2.20        | ~7,920      | 574           | ~3.83                      |\n",
    "| ICE 3 – 100 km (@21.75 kWh/km × 100 km)                        | ~2,175       | ~2.18        | ~7,830      | 460           | ~4.73                      |\n",
    "| Frecciarossa – 100 km (@22 kWh/km × 100 km)                   | ~2,200       | ~2.20        | ~7,920      | 457           | ~4.82                      |\n",
    "| Driving a modern EV (100 km)                                  | ~20          | ~0.020       | ~72         | 5            | ~4.00                      |\n",
    "| TGV – Strasbourg → Paris (~490 km @22 kWh/km)                 | ~10,780      | ~10.78       | ~38,808     | 574           | ~18.78                     |\n",
    "| ICE 3 – Munich → Berlin (~600 km @21.75 kWh/km)               | ~13,050      | ~13.05       | ~46,980     | 460           | ~28.37                     |\n",
    "| Frecciarossa – Milan → Rome (~570 km @22 kWh/km)              | ~12,540      | ~12.54       | ~45,144     | 457           | ~27.44                     |\n"
   ]
  },
  {
   "cell_type": "markdown",
   "id": "6811d561",
   "metadata": {},
   "source": [
    "<h3> Grid Load: Power </h3>"
   ]
  },
  {
   "cell_type": "markdown",
   "id": "ff6151ba",
   "metadata": {},
   "source": [
    "The *\"grid load\"* as a physical quantity is *power*, measured in $\\mathrm{MW}$. The grid load for the Germany+Luxembourg-grid ranges in the $40.000\\; \\mathrm{MW}$ upwards region. To bring that into relation with daily or yearly consumption,  a few example values assuming constant grid load."
   ]
  },
  {
   "cell_type": "markdown",
   "id": "147d451e",
   "metadata": {},
   "source": [
    "| grid load                                                   | daily Energy consumption ($\\mathrm{GWh}$) | yearly Energy consumption ($\\mathrm{TWh}$)| \n",
    "|:------------------------------------------------------------:|-------------:|------------:|\n",
    "| $40.000\\; \\mathrm{MW} $                                |     $960\\hphantom{,00}$      |   $350,4\\hphantom{0}$   | \n",
    "| $50.000\\; \\mathrm{MW} $                                |     $1.200\\hphantom{,00}$      |   $438\\hphantom{,00}$   | \n",
    "| $71.233\\; \\mathrm{MW} $                                |     $1.709,58$      |   $624\\hphantom{,00}$   | \n",
    "\n"
   ]
  }
 ],
 "metadata": {
  "kernelspec": {
   "display_name": "Python 3",
   "language": "python",
   "name": "python3"
  },
  "language_info": {
   "codemirror_mode": {
    "name": "ipython",
    "version": 3
   },
   "file_extension": ".py",
   "mimetype": "text/x-python",
   "name": "python",
   "nbconvert_exporter": "python",
   "pygments_lexer": "ipython3",
   "version": "3.12.8"
  }
 },
 "nbformat": 4,
 "nbformat_minor": 5
}
