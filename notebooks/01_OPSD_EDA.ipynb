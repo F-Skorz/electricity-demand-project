{
 "cells": [
  {
   "cell_type": "markdown",
   "id": "af6153e3",
   "metadata": {},
   "source": [
    "<h1> The Open Power System Data (OPSD) Data Set  </h1>"
   ]
  },
  {
   "cell_type": "code",
   "execution_count": null,
   "id": "91a2999e",
   "metadata": {},
   "outputs": [],
   "source": [
    "from pathlib import Path\n",
    "import sys\n",
    "\n",
    "# If this notebook lives in <repo>/notebooks/, add the repo root to sys.path\n",
    "PROJECT_ROOT = Path.cwd().parent  # .. from notebooks/ to repo root\n",
    "sys.path.insert(0, str(PROJECT_ROOT))\n",
    "\n",
    "# sanity check (optional)\n",
    "print(\"Using PROJECT_ROOT:\", PROJECT_ROOT)\n",
    "print(\"Has src? \", (PROJECT_ROOT / \"src\").exists())\n"
   ]
  },
  {
   "cell_type": "markdown",
   "id": "6ae472e8",
   "metadata": {},
   "source": [
    "<h2> Download the Hourly Time Series </h2>"
   ]
  },
  {
   "cell_type": "markdown",
   "id": "73677b7a",
   "metadata": {},
   "source": [
    "The open data platform [OPSD](https://open-power-system-data.org/) provides time series at different temporal resolutions. The following cell ownloads the hourly time series."
   ]
  },
  {
   "cell_type": "code",
   "execution_count": null,
   "id": "eaae93b3",
   "metadata": {},
   "outputs": [],
   "source": [
    "from pathlib import Path\n",
    "import sys, importlib\n",
    "import pandas as pd\n",
    "\n",
    "# Make repo importable and load config\n",
    "PROJECT_ROOT = Path.cwd().parent\n",
    "if str(PROJECT_ROOT) not in sys.path:\n",
    "    sys.path.insert(0, str(PROJECT_ROOT))\n",
    "\n",
    "import src.config as cfg\n",
    "cfg = importlib.reload(cfg)\n",
    "\n",
    "OPSD_60min_df = None\n",
    "URL = \"https://data.open-power-system-data.org/time_series/2020-10-06/time_series_60min_singleindex.csv\"\n",
    "\n",
    "if cfg.OPSD_60min_CSV.exists():\n",
    "    OPSD_60min_df = pd.read_csv(cfg.OPSD_60min_CSV)\n",
    "    print(\"(Re-)loaded hourly OPSD dataset into OPSD_60min_df.\")\n",
    "else:\n",
    "    print('Not found: \"OPSD_time_series_60min_singleindex.csv\" in data/raw/.')\n",
    "    print(\"Attempting to download from:\", URL)\n",
    "    try:\n",
    "        from urllib.request import urlopen\n",
    "        with urlopen(URL) as r, open(cfg.OPSD_60min_CSV, \"wb\") as f:\n",
    "            f.write(r.read())\n",
    "        OPSD_60min_df = pd.read_csv(cfg.OPSD_60min_CSV)\n",
    "        print(\"Successfully downloaded and loaded the hourly OPSD dataset into OPSD_60min_df.\")\n",
    "    except Exception as e:\n",
    "        print(\"Unfortunately, the download failed.\")\n",
    "        print(\"Reason:\", repr(e))\n",
    "        print(\"Please, try to download it manually, and place it at:\", cfg.OPSD_60min_CSV)\n"
   ]
  },
  {
   "cell_type": "markdown",
   "id": "811ba4de",
   "metadata": {},
   "source": [
    "The `.info()` and `.shape` output: "
   ]
  },
  {
   "cell_type": "code",
   "execution_count": null,
   "id": "b147b77e",
   "metadata": {},
   "outputs": [],
   "source": [
    "print(\"   .info():\") \n",
    "print(OPSD_60min_df.info())\n",
    "print(\"   .shape:\")\n",
    "print(OPSD_60min_df.shape)"
   ]
  },
  {
   "cell_type": "markdown",
   "id": "d1c5c7bf",
   "metadata": {},
   "source": [
    "The first ten rows:"
   ]
  },
  {
   "cell_type": "code",
   "execution_count": null,
   "id": "c512855f",
   "metadata": {},
   "outputs": [],
   "source": [
    "OPSD_60min_df.head(10)"
   ]
  },
  {
   "cell_type": "code",
   "execution_count": null,
   "id": "11130461",
   "metadata": {},
   "outputs": [],
   "source": [
    "print(OPSD_60min_df[[\"cet_cest_timestamp\", \"utc_timestamp\"]].head(3))\n",
    "print(OPSD_60min_df[[\"cet_cest_timestamp\", \"utc_timestamp\"]].tail(3))"
   ]
  },
  {
   "cell_type": "markdown",
   "id": "7e720b4c",
   "metadata": {},
   "source": [
    "In summary, a first look at the data set shows: The data ranges from **2015-01-01** to **2020-10-01**. Stepwidth: one hour.  That adds up to $50 401$ rows, with data features comprising $300$ columns.  \n",
    "We have two  **timestamp** columns, namely `utc_timestamp` and `cet_cest_timestamp`.  \n",
    "Now, we have a closer look at the remaining $298$ features."
   ]
  },
  {
   "cell_type": "code",
   "execution_count": 4,
   "id": "d202de45",
   "metadata": {},
   "outputs": [],
   "source": [
    "OPSD_column_names_lst = OPSD_60min_df.columns.tolist()"
   ]
  },
  {
   "cell_type": "code",
   "execution_count": null,
   "id": "3082c198",
   "metadata": {},
   "outputs": [],
   "source": [
    "OPSD_column_names_lst "
   ]
  },
  {
   "cell_type": "markdown",
   "id": "eb3be18b",
   "metadata": {},
   "source": [
    "Generally, the electricity data is organized by country, transmission system operators' (TSO) control areas and bidding zones. Column names start with `DE` when referring to Germany, with `LU` when referring to Luxembourg etc. The common bidding zone Germany-Luxembourg has `DE_LU` as a prefix. Germany has many more columns than any other country. This is due to the territorial subdivision into four different TSO Control Areas. To complicate matters even further, two of them have a control area that consists of two different connected components.  "
   ]
  },
  {
   "cell_type": "markdown",
   "id": "d0140ad0",
   "metadata": {},
   "source": [
    "<h2> Data Completeness and NaN Analysis </h2> "
   ]
  },
  {
   "cell_type": "markdown",
   "id": "158ccfd0",
   "metadata": {},
   "source": [
    "<h3> Getting the NaN Stats by Columns</h3> "
   ]
  },
  {
   "cell_type": "code",
   "execution_count": null,
   "id": "916c68ff",
   "metadata": {},
   "outputs": [],
   "source": [
    "# --- NaN stats → sort → tidy DataFrame (OPSD_60min_df) ---\n",
    "from pathlib import Path\n",
    "import sys, importlib\n",
    "from IPython.display import display\n",
    "\n",
    "# import module\n",
    "PROJECT_ROOT = Path.cwd().parent\n",
    "if str(PROJECT_ROOT) not in sys.path:\n",
    "    sys.path.insert(0, str(PROJECT_ROOT))\n",
    "\n",
    "from src import eda_utils\n",
    "importlib.reload(eda_utils)  # pick up latest edits\n",
    "\n",
    "df = globals().get(\"OPSD_60min_df\")\n",
    "if df is None:\n",
    "    print(\"No DataFrame named OPSD_60min_df found. Load it first by running the preceding cells, then re-run this cell again, please.\")\n",
    "else:\n",
    "    # Call with ONLY the df (all other args are keyword-only and optional)\n",
    "    opsd_60min_nan_desc_lst, opsd_60min_nan_df = eda_utils.build_nan_stats(df)\n",
    "\n",
    "    print(f\"Columns analyzed: {len(opsd_60min_nan_df)}\")\n",
    "    print(\"\\nTop 20 by relative NaNs:\\n\")\n",
    "    display(opsd_60min_nan_df.head(20))  # nice HTML table\n"
   ]
  },
  {
   "cell_type": "markdown",
   "id": "4ad76a9e",
   "metadata": {},
   "source": [
    "<h3> Missingness Plots </h3>"
   ]
  },
  {
   "cell_type": "code",
   "execution_count": null,
   "id": "21e9abfc",
   "metadata": {},
   "outputs": [],
   "source": [
    "# --- Missingness mask → dual-plot (weekly vs daily) ---\n",
    "from pathlib import Path\n",
    "import sys, importlib\n",
    "import matplotlib.pyplot as plt\n",
    "\n",
    "# Ensure we can import from src/\n",
    "PROJECT_ROOT = Path.cwd().parent\n",
    "if str(PROJECT_ROOT) not in sys.path:\n",
    "    sys.path.inse\n",
    "from src import eda_utils, plotting_utils\n",
    "importlib.reload(eda_utils)\n",
    "importlib.reload(plotting_utils)\n",
    "\n",
    "# 1) Build missingness mask from the OPSD DataFrame\n",
    "mask_df = eda_utils.missingness_mask(OPSD_60min_df)\n",
    "\n",
    "# 2) Plot: weekly missingness of DE_LU_price_day_ahead vs daily missingness of DE_LU_load_forecast_entsoe_transparency\n",
    "fig, ax1, ax2 = plotting_utils.plot_dual_timeseries(\n",
    "    mask_df,\n",
    "    start_date=\"2016-01-01\",\n",
    "    end_date=\"2019-12-31\",\n",
    "    column_name_one=\"DE_LU_price_day_ahead\",                 # weekly missingness\n",
    "    granularity_one=\"W\",\n",
    "    column_name_two=\"DE_LU_load_forecast_entsoe_transparency\",  # daily missingness\n",
    "    granularity_two=\"W\",\n",
    "    coverage_threshold=0.5,   # same coverage rule as before; can adjust if desired\n",
    "    title=\"Missingness: DE_LU_price_day_ahead (weekly) vs DE_LU_load_forecast_entsoe_transparency (weekly)\",\n",
    ")\n",
    "\n",
    "plt.show()\n",
    "\n"
   ]
  },
  {
   "cell_type": "code",
   "execution_count": null,
   "id": "1bab20ad",
   "metadata": {},
   "outputs": [],
   "source": [
    "# --- Missingness mask → dual-plot (weekly vs weekly) ---\n",
    "from pathlib import Path\n",
    "import sys, importlib\n",
    "import matplotlib.pyplot as plt\n",
    "\n",
    "# Ensure we can import from src/\n",
    "PROJECT_ROOT = Path.cwd().parent\n",
    "if str(PROJECT_ROOT) not in sys.path:\n",
    "    sys.path.insert(0, str(PROJECT_ROOT))  # <- fixed\n",
    "\n",
    "from src import eda_utils, plotting_utils\n",
    "importlib.reload(eda_utils)\n",
    "importlib.reload(plotting_utils)\n",
    "\n",
    "# 1) Build missingness mask (keeps timestamp columns intact)\n",
    "mask_df = eda_utils.missingness_mask(OPSD_60min_df)\n",
    "\n",
    "# 2) Plot weekly missingness for both columns\n",
    "fig, ax1, ax2 = plotting_utils.plot_dual_timeseries(\n",
    "    mask_df,\n",
    "    start_date=\"2016-01-01\",\n",
    "    end_date=\"2019-12-31\",\n",
    "    column_name_one=\"DE_LU_price_day_ahead\",\n",
    "    granularity_one=\"W\",\n",
    "    column_name_two=\"DE_LU_load_forecast_entsoe_transparency\",\n",
    "    granularity_two=\"W\",\n",
    "    coverage_threshold=0.5,\n",
    "    title=\"Missingness: DE_LU_price_day_ahead (weekly) vs DE_LU_load_forecast_entsoe_transparency (weekly)\",\n",
    ")\n",
    "\n",
    "# -- Color the second series & right-axis labels red\n",
    "if ax2.get_lines():\n",
    "    ax2.get_lines()[-1].set_color(\"red\")\n",
    "ax2.tick_params(axis=\"y\", labelcolor=\"red\")\n",
    "ax2.yaxis.label.set_color(\"red\")\n",
    "\n",
    "plt.show()\n"
   ]
  },
  {
   "cell_type": "code",
   "execution_count": null,
   "id": "9d83930d",
   "metadata": {},
   "outputs": [],
   "source": [
    "\n",
    "from pathlib import Path\n",
    "import sys, importlib\n",
    "import matplotlib.pyplot as plt\n",
    "\n",
    "# import module\n",
    "PROJECT_ROOT = Path.cwd().parent\n",
    "if str(PROJECT_ROOT) not in sys.path:\n",
    "    sys.path.insert(0, str(PROJECT_ROOT))\n",
    "\n",
    "from src import plotting_utils\n",
    "importlib.reload(plotting_utils)\n",
    "\n",
    "\n",
    "fig, ax1, ax2 = plotting_utils.plot_dual_timeseries(\n",
    "    OPSD_60min_df,\n",
    "    start_date=\"2020-01-01\",\n",
    "    end_date=\"2020-01-02\",\n",
    "    column_name_one=\"DE_load_actual_entsoe_transparency\",\n",
    "    granularity_one=\"H\",\n",
    "    column_name_two=\"LU_load_actual_entsoe_transparency\",\n",
    "    granularity_two=\"H\",\n",
    "    coverage_threshold=0.5,\n",
    "    title=\"OPSD (2019): DE weekly vs LU daily\",\n",
    ")\n",
    "if ax2.get_lines():\n",
    "    ax2.get_lines()[-1].set_color(\"red\")\n",
    "ax2.tick_params(axis=\"y\", labelcolor=\"red\")\n",
    "ax2.yaxis.label.set_color(\"red\")\n",
    "\n",
    "plt.show()\n"
   ]
  },
  {
   "cell_type": "markdown",
   "id": "fb49595a",
   "metadata": {},
   "source": [
    "<h2>Select Columns Relevant for Germany into Derived DataFrames</h2>"
   ]
  },
  {
   "cell_type": "markdown",
   "id": "0f29e5d5",
   "metadata": {},
   "source": [
    "🇩🇪 We select the Germany-related columns and the two timestamp columns into a sub-frame: "
   ]
  },
  {
   "cell_type": "code",
   "execution_count": 28,
   "id": "a1412599",
   "metadata": {},
   "outputs": [],
   "source": [
    "germany_cols = [col for col in OPSD_60min_df.columns if col.startswith(\"DE_\") or \"timestamp\" in col]\n",
    "OPSD_60min_de_df = OPSD_60min_df[germany_cols].copy()"
   ]
  },
  {
   "cell_type": "code",
   "execution_count": null,
   "id": "cd252c02",
   "metadata": {},
   "outputs": [],
   "source": [
    "OPSD_60min_de_df.head(5)"
   ]
  },
  {
   "cell_type": "markdown",
   "id": "8e844cf8",
   "metadata": {},
   "source": [
    "🇩🇪 $+$ 🇱🇺 Since Luxembourg and Germany form one bidding zone, it might be beneficial to include the (two) Luxembourg columns as well."
   ]
  },
  {
   "cell_type": "code",
   "execution_count": 31,
   "id": "42ecdff9",
   "metadata": {},
   "outputs": [],
   "source": [
    "germany_lux_cols = [col for col in OPSD_60min_df.columns if col.startswith(\"DE_\") or col.startswith(\"LU_\") or  \"timestamp\" in col]\n",
    "OPSD_60min_de_lu_df = OPSD_60min_df[germany_lux_cols].copy()"
   ]
  },
  {
   "cell_type": "markdown",
   "id": "20af5d3e",
   "metadata": {},
   "source": [
    "We have $45$ columns now. "
   ]
  },
  {
   "cell_type": "code",
   "execution_count": 32,
   "id": "cb9ef940",
   "metadata": {},
   "outputs": [
    {
     "data": {
      "text/plain": [
       "(50401, 45)"
      ]
     },
     "execution_count": 32,
     "metadata": {},
     "output_type": "execute_result"
    }
   ],
   "source": [
    "OPSD_60min_de_lu_df.shape"
   ]
  },
  {
   "cell_type": "code",
   "execution_count": null,
   "id": "45922db2",
   "metadata": {},
   "outputs": [],
   "source": [
    "OPSD_60min_de_lu_df.columns"
   ]
  },
  {
   "cell_type": "markdown",
   "id": "a899885e",
   "metadata": {},
   "source": [
    "Here is a view of the columns grouped by prefixes.  \n",
    "\n",
    "`50hertz`,`amprion` ,`tennet` and `transnetbw` refer to the  transmission system operators (TOS) currently operating in Germany.  Only the last one, `transnetbw`, has a control area that matches one federal state:  **Baden-Württemberg**.  The control area of `50hertz` contains the former **GDR**'s territory, the whole of  the city state **Berlin** and, in addition, the city state of **Hamburg**.  The control areas of `amprion` and `tennet` do not align well with the federal subdivision.  "
   ]
  },
  {
   "cell_type": "markdown",
   "id": "ba579526",
   "metadata": {},
   "source": [
    "| **Group**          | **Columns** |\n",
    "|---------------------|-------------|\n",
    "| **DE_LU** | `DE_LU_load_actual_entsoe_transparency`, `DE_LU_load_forecast_entsoe_transparency`, `DE_LU_price_day_ahead`, `DE_LU_solar_generation_actual`, `DE_LU_wind_generation_actual`, `DE_LU_wind_offshore_generation_actual`, `DE_LU_wind_onshore_generation_actual` |\n",
    "| **DE** | `DE_load_actual_entsoe_transparency`, `DE_load_forecast_entsoe_transparency`, `DE_solar_capacity`, `DE_solar_generation_actual`, `DE_solar_profile`, `DE_wind_capacity`, `DE_wind_generation_actual`, `DE_wind_profile`, `DE_wind_offshore_capacity`, `DE_wind_offshore_generation_actual`, `DE_wind_offshore_profile`, `DE_wind_onshore_capacity`, `DE_wind_onshore_generation_actual`, `DE_wind_onshore_profile` |\n",
    "| **LU** | `LU_load_actual_entsoe_transparency`, `LU_load_forecast_entsoe_transparency` |\n",
    "| **DE_50hertz** | `DE_50hertz_load_actual_entsoe_transparency`, `DE_50hertz_load_forecast_entsoe_transparency`, `DE_50hertz_solar_generation_actual`, `DE_50hertz_wind_generation_actual`, `DE_50hertz_wind_offshore_generation_actual`, `DE_50hertz_wind_onshore_generation_actual` |\n",
    "| **DE_amprion** | `DE_amprion_load_actual_entsoe_transparency`, `DE_amprion_load_forecast_entsoe_transparency`, `DE_amprion_solar_generation_actual`, `DE_amprion_wind_onshore_generation_actual` |\n",
    "| **DE_tennet** | `DE_tennet_load_actual_entsoe_transparency`, `DE_tennet_load_forecast_entsoe_transparency`, `DE_tennet_solar_generation_actual`, `DE_tennet_wind_generation_actual`, `DE_tennet_wind_offshore_generation_actual`, `DE_tennet_wind_onshore_generation_actual` |\n",
    "| **DE_transnetbw** | `DE_transnetbw_load_actual_entsoe_transparency`, `DE_transnetbw_load_forecast_entsoe_transparency`, `DE_transnetbw_solar_generation_actual`, `DE_transnetbw_wind_onshore_generation_actual` |\n"
   ]
  }
 ],
 "metadata": {
  "kernelspec": {
   "display_name": "Python 3.12 (Vanilla)",
   "language": "python",
   "name": "py312-vanilla"
  },
  "language_info": {
   "codemirror_mode": {
    "name": "ipython",
    "version": 3
   },
   "file_extension": ".py",
   "mimetype": "text/x-python",
   "name": "python",
   "nbconvert_exporter": "python",
   "pygments_lexer": "ipython3",
   "version": "3.12.8"
  }
 },
 "nbformat": 4,
 "nbformat_minor": 5
}
